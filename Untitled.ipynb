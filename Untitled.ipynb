{
 "cells": [
  {
   "cell_type": "markdown",
   "id": "9c4070f3-d45f-48ca-93ae-a00bb893085b",
   "metadata": {},
   "source": [
    "<img src=\"Adelie.jpg\" width=\"60%\" height=\"50%\">\n",
    "\n",
    "<img src=\"Chinstrap.jpg\" width=\"60%\" height=\"50%\">\n",
    "\n",
    "<img src=\"Gentoo.jpg\" width=\"60%\" height=\"50%\">\n"
   ]
  },
  {
   "cell_type": "markdown",
   "id": "85c80fbd-91c7-47f1-a6b3-0a16a7d740a5",
   "metadata": {},
   "source": [
    "<img src=\"Adelie.jpg\" width=\"200\" height=\"500\">\n",
    "\n",
    "<img src=\"Chinstrap.jpg\" width=\"200\" height=\"500\">\n",
    "\n",
    "<img src=\"Gentoo.jpg\" width=\"200\" height=\"500\">"
   ]
  },
  {
   "cell_type": "code",
   "execution_count": null,
   "id": "8ef477a6-5f56-429a-af7d-fafd047fa04c",
   "metadata": {},
   "outputs": [],
   "source": []
  },
  {
   "cell_type": "code",
   "execution_count": null,
   "id": "62fffe1b-307f-475e-b8fb-89f99f70711c",
   "metadata": {},
   "outputs": [],
   "source": []
  },
  {
   "cell_type": "code",
   "execution_count": null,
   "id": "b6bbc4d0-3b72-4ead-a3dd-73d6a23e0f73",
   "metadata": {},
   "outputs": [],
   "source": []
  },
  {
   "cell_type": "code",
   "execution_count": null,
   "id": "4b6a80f6-50c5-462c-9441-ef2ef3a0c436",
   "metadata": {},
   "outputs": [],
   "source": []
  },
  {
   "cell_type": "code",
   "execution_count": null,
   "id": "acd8fd21-c7a4-412a-9d7f-93af253b4bd7",
   "metadata": {},
   "outputs": [],
   "source": []
  },
  {
   "cell_type": "code",
   "execution_count": null,
   "id": "e2da5269-ba26-4e09-aa95-733113222e4a",
   "metadata": {},
   "outputs": [],
   "source": []
  },
  {
   "cell_type": "code",
   "execution_count": null,
   "id": "136b90ec-4c99-4dfe-88d9-5ef3de8a2943",
   "metadata": {},
   "outputs": [],
   "source": []
  },
  {
   "cell_type": "code",
   "execution_count": null,
   "id": "26cf6c1a-48dc-4bd3-b160-8262bab419bf",
   "metadata": {},
   "outputs": [],
   "source": []
  },
  {
   "cell_type": "code",
   "execution_count": null,
   "id": "f09b2fb4-32bf-4700-a00e-bac8872f2828",
   "metadata": {},
   "outputs": [],
   "source": []
  },
  {
   "cell_type": "code",
   "execution_count": null,
   "id": "08fa93fb-af91-4ef6-af5f-cad25912ebb9",
   "metadata": {},
   "outputs": [],
   "source": []
  },
  {
   "cell_type": "code",
   "execution_count": null,
   "id": "3c4225c0-e7cb-44c4-9430-e0c68e2afb61",
   "metadata": {},
   "outputs": [],
   "source": []
  },
  {
   "cell_type": "code",
   "execution_count": null,
   "id": "3e9562d9-a1dc-4337-9a7e-6c2a8d14327d",
   "metadata": {},
   "outputs": [],
   "source": []
  },
  {
   "cell_type": "code",
   "execution_count": null,
   "id": "45ae420c-50a7-4602-a7ea-61d15131651f",
   "metadata": {},
   "outputs": [],
   "source": []
  },
  {
   "cell_type": "code",
   "execution_count": null,
   "id": "d344706f-bbd0-4424-a668-bfa5cc289413",
   "metadata": {},
   "outputs": [],
   "source": []
  },
  {
   "cell_type": "code",
   "execution_count": null,
   "id": "9a13a6ea-0aa6-4262-b830-972372620393",
   "metadata": {},
   "outputs": [],
   "source": []
  },
  {
   "cell_type": "code",
   "execution_count": null,
   "id": "23fbfb1c-1709-4914-b4f5-02e977d4808e",
   "metadata": {},
   "outputs": [],
   "source": []
  },
  {
   "cell_type": "code",
   "execution_count": null,
   "id": "612bdfa8-2f84-4a7b-8bec-eef9ad8e38c1",
   "metadata": {},
   "outputs": [],
   "source": []
  },
  {
   "cell_type": "code",
   "execution_count": null,
   "id": "5fe7e3c9-7557-493f-a954-0ea46225480b",
   "metadata": {},
   "outputs": [],
   "source": []
  },
  {
   "cell_type": "code",
   "execution_count": null,
   "id": "d24e816f-f59b-4e83-b3f6-6f382b8d4201",
   "metadata": {},
   "outputs": [],
   "source": []
  },
  {
   "cell_type": "code",
   "execution_count": null,
   "id": "4d030458-a0e7-4704-ab13-eac96f4b95ef",
   "metadata": {},
   "outputs": [],
   "source": []
  },
  {
   "cell_type": "code",
   "execution_count": null,
   "id": "eadc9b30-4313-4a85-841b-64b1cb1bb0eb",
   "metadata": {},
   "outputs": [],
   "source": []
  },
  {
   "cell_type": "code",
   "execution_count": null,
   "id": "5cdc01e2-c41c-47b0-bc0b-bf32369b40e1",
   "metadata": {},
   "outputs": [],
   "source": []
  },
  {
   "cell_type": "code",
   "execution_count": null,
   "id": "261def65-086e-4f6b-9588-94341ee42238",
   "metadata": {},
   "outputs": [],
   "source": []
  },
  {
   "cell_type": "code",
   "execution_count": null,
   "id": "0fe16c89-a96f-4a11-a3cf-0a5525565f41",
   "metadata": {},
   "outputs": [],
   "source": []
  },
  {
   "cell_type": "code",
   "execution_count": null,
   "id": "d54b9e63-0570-497a-88ad-69b87e23cb78",
   "metadata": {},
   "outputs": [],
   "source": []
  },
  {
   "cell_type": "code",
   "execution_count": null,
   "id": "302da890-cefa-4623-b15e-52d35718412b",
   "metadata": {},
   "outputs": [],
   "source": []
  },
  {
   "cell_type": "code",
   "execution_count": null,
   "id": "aea877f5-1e56-470a-8596-56584673f20c",
   "metadata": {},
   "outputs": [],
   "source": []
  },
  {
   "cell_type": "code",
   "execution_count": null,
   "id": "e4cb6cd3-aa27-4cae-9e11-388a3e355b87",
   "metadata": {},
   "outputs": [],
   "source": []
  },
  {
   "cell_type": "code",
   "execution_count": null,
   "id": "acc3eed6-6f6a-4e68-96d3-a9c985dc00d7",
   "metadata": {},
   "outputs": [],
   "source": []
  },
  {
   "cell_type": "code",
   "execution_count": null,
   "id": "18815cf7-8d63-4cb7-ac66-2e1a990548ad",
   "metadata": {},
   "outputs": [],
   "source": []
  },
  {
   "cell_type": "code",
   "execution_count": null,
   "id": "7edfdb32-58ed-4880-8b2f-03eae6abc898",
   "metadata": {},
   "outputs": [],
   "source": []
  },
  {
   "cell_type": "code",
   "execution_count": null,
   "id": "fd57ee4d-1531-4449-a2d3-4a4628a0cbb7",
   "metadata": {},
   "outputs": [],
   "source": []
  },
  {
   "cell_type": "code",
   "execution_count": null,
   "id": "d0e96f09-8e39-44fc-913e-9cfa15889ce6",
   "metadata": {},
   "outputs": [],
   "source": []
  },
  {
   "cell_type": "code",
   "execution_count": null,
   "id": "cc61f649-2bbe-4fd6-900d-0f469f151801",
   "metadata": {},
   "outputs": [],
   "source": []
  }
 ],
 "metadata": {
  "kernelspec": {
   "display_name": "Python 3 (ipykernel)",
   "language": "python",
   "name": "python3"
  },
  "language_info": {
   "codemirror_mode": {
    "name": "ipython",
    "version": 3
   },
   "file_extension": ".py",
   "mimetype": "text/x-python",
   "name": "python",
   "nbconvert_exporter": "python",
   "pygments_lexer": "ipython3",
   "version": "3.11.6"
  }
 },
 "nbformat": 4,
 "nbformat_minor": 5
}
